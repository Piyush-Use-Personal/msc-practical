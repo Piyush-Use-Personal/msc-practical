{
 "cells": [
  {
   "cell_type": "code",
   "execution_count": 2,
   "metadata": {
    "colab": {
     "base_uri": "https://localhost:8080/"
    },
    "id": "Qm99D4RK3TSs",
    "outputId": "44ccb103-7be0-4cd8-ace7-77b296c5449e"
   },
   "outputs": [
    {
     "name": "stdout",
     "output_type": "stream",
     "text": [
      "Enter the value for weight: 40\n",
      "Enter the value for bias: 5\n",
      "Enter the value for input: 10\n",
      " The net input (s):  405.0\n"
     ]
    }
   ],
   "source": [
    "w = float(input(\"Enter the value for weight: \"))\n",
    "b = float(input(\"Enter the value for bias: \"))\n",
    "x = float(input(\"Enter the value for input: \"))\n",
    "\n",
    "print(\" The net input (s): \", float(b+(w*x)))\n"
   ]
  },
  {
   "cell_type": "code",
   "execution_count": 2,
   "metadata": {
    "id": "PGtS4EpU4OzU"
   },
   "outputs": [],
   "source": []
  },
  {
   "cell_type": "code",
   "execution_count": 11,
   "metadata": {
    "colab": {
     "base_uri": "https://localhost:8080/"
    },
    "id": "kJ3x0Kpc4gBK",
    "outputId": "ff943351-754c-49e3-ac17-e9daefd17293"
   },
   "outputs": [
    {
     "name": "stdout",
     "output_type": "stream",
     "text": [
      "Enter number of elements: 3\n",
      "Enter the inputs: \n",
      "0.3\n",
      "0.5\n",
      "0.6\n",
      "[0.3, 0.5, 0.6]\n",
      "Enter the weights\n",
      "0.2\n",
      "0.1\n",
      "-0.3\n",
      "[0.2, 0.1, -0.3]\n",
      "The net input can be calculated as Yin = i1*w1 + i2*w2 + i3*w3\n",
      "-0.07\n"
     ]
    }
   ],
   "source": [
    "n = int(input(\"Enter number of elements: \"))\n",
    "inputs = []\n",
    "\n",
    "print(\"Enter the inputs: \")\n",
    "\n",
    "for i in range(n):\n",
    "  inputs.append(float(input()))\n",
    "print(inputs)\n",
    "\n",
    "weights=[]\n",
    "print(\"Enter the weights\")\n",
    "\n",
    "for i in range(n):\n",
    "  weights.append(float(input()))\n",
    "print(weights)\n",
    "\n",
    "print(\"The net input can be calculated as Yin = i1*w1 + i2*w2 + i3*w3\")\n",
    "\n",
    "yin=[]\n",
    "for i in range(n):\n",
    "  yin.append(inputs[i]*weights[i])\n",
    "\n",
    "\n",
    "print(round(sum(yin),2))"
   ]
  },
  {
   "cell_type": "code",
   "execution_count": 11,
   "metadata": {
    "id": "9ZBhrz-y493h"
   },
   "outputs": [],
   "source": []
  },
  {
   "cell_type": "code",
   "execution_count": 13,
   "metadata": {
    "colab": {
     "base_uri": "https://localhost:8080/"
    },
    "id": "ZykZZ4MV9mk-",
    "outputId": "b0e84a5a-bdff-4277-9d02-266672d44330"
   },
   "outputs": [
    {
     "name": "stdout",
     "output_type": "stream",
     "text": [
      "[0, 0, 1, 0]\n"
     ]
    }
   ],
   "source": [
    "#AND NOT\n",
    "\n",
    "x1=[0,0,1,1]\n",
    "x2=[0,1,0,1]\n",
    "w1=[1,1,1,1]\n",
    "w2=[-1,-1,-1,-1]\n",
    "\n",
    "y=[]\n",
    "\n",
    "for i in range(4):\n",
    "  y.append((x1[i]*w1[i]) + (x2[i]*w2[i]))\n",
    "\n",
    "output=[]\n",
    "for i in range(4):\n",
    "  if y[i] < 1:\n",
    "    output.append(0)\n",
    "\n",
    "  elif y[i] >= 1:\n",
    "    output.append(1)\n",
    "\n",
    "print(output)"
   ]
  },
  {
   "cell_type": "code",
   "execution_count": null,
   "metadata": {
    "id": "6F0XOhbJOfJQ"
   },
   "outputs": [],
   "source": []
  },
  {
   "cell_type": "code",
   "execution_count": 7,
   "metadata": {},
   "outputs": [
    {
     "name": "stdout",
     "output_type": "stream",
     "text": [
      "[0, 0, 1, 0]\n",
      "[0, 1, 0, 0]\n",
      "[0, 1, 1, 0]\n"
     ]
    }
   ],
   "source": [
    "#XOR\n",
    "\n",
    "x1=[0,0,1,1]\n",
    "x2=[0,1,0,1]\n",
    "w11=[1,1,1,1]\n",
    "w21=[-1,-1,-1,-1]\n",
    "w12=[-1,-1,-1,-1]\n",
    "w22=[1,1,1,1]\n",
    "Z1 = []\n",
    "Z2 = []\n",
    "y=[]\n",
    "for i in range(4):\n",
    "    ans = (x1[i]*w11[i]) + (x2[i]*w21[i])\n",
    "    if ans <1:\n",
    "        Z1.append(0)\n",
    "    else:\n",
    "        Z1.append(1)\n",
    "    \n",
    "for i in range(4):\n",
    "    ans = (x1[i]*w12[i]) + (x2[i]*w22[i])\n",
    "    if ans <1:\n",
    "        Z2.append(0)\n",
    "    else:\n",
    "        Z2.append(1)\n",
    "print(Z1)\n",
    "print(Z2)\n",
    "\n",
    "for i in range(4):\n",
    "    ans = Z1[i] + Z2[i]\n",
    "    if ans<1:\n",
    "        y.append(0)\n",
    "    else:\n",
    "        y.append(1)\n",
    "\n",
    "print(y)        "
   ]
  },
  {
   "cell_type": "code",
   "execution_count": null,
   "metadata": {},
   "outputs": [],
   "source": []
  },
  {
   "cell_type": "code",
   "execution_count": 10,
   "metadata": {},
   "outputs": [
    {
     "name": "stdout",
     "output_type": "stream",
     "text": [
      "Enter weights\n"
     ]
    },
    {
     "name": "stdin",
     "output_type": "stream",
     "text": [
      "Weight w11= 1\n",
      "weight w12= -1\n",
      "Weight w21= -1\n",
      "weight w22= 1\n",
      "weight v1= 1\n",
      "weight v2= 1\n"
     ]
    },
    {
     "name": "stdout",
     "output_type": "stream",
     "text": [
      "Enter Threshold Value\n"
     ]
    },
    {
     "name": "stdin",
     "output_type": "stream",
     "text": [
      "theta= 1\n"
     ]
    },
    {
     "name": "stdout",
     "output_type": "stream",
     "text": [
      "z1 [ 0 -1  1  0]\n",
      "z2 [ 0  1 -1  0]\n",
      "yin [0. 1. 1. 0.]\n",
      "Output of Net\n",
      "y [0 1 1 0]\n",
      "z [0 1 1 0]\n",
      "McCulloch-Pitts Net for XOR function\n",
      "Weights of Neuron Z1\n",
      "1\n",
      "-1\n",
      "weights of Neuron Z2\n",
      "-1\n",
      "1\n",
      "weights of Neuron Y\n",
      "1\n",
      "1\n",
      "Threshold value\n",
      "1\n"
     ]
    }
   ],
   "source": [
    "#XOR written in manual\n",
    "\n",
    "import numpy as np\n",
    "print('Enter weights')\n",
    "w11=int(input('Weight w11='))\n",
    "w12=int(input('weight w12='))\n",
    "w21=int(input('Weight w21='))\n",
    "w22=int(input('weight w22='))\n",
    "\n",
    "v1=int(input('weight v1='))\n",
    "v2=int(input('weight v2='))\n",
    "print('Enter Threshold Value')\n",
    "theta=int(input('theta='))\n",
    "x1=np.array([0, 0, 1, 1])\n",
    "x2=np.array([0, 1, 0, 1])\n",
    "z=np.array([0, 1, 1, 0])\n",
    "con=1\n",
    "y1=np.zeros((4,))\n",
    "y2=np.zeros((4,))\n",
    "y=np.zeros((4,))\n",
    "\n",
    "while con==1:\n",
    "    zin1=np.zeros((4,))\n",
    "    zin2=np.zeros((4,))\n",
    "    zin1=x1*w11+x2*w21\n",
    "    zin2=x1*w21+x2*w22\n",
    "    print(\"z1\",zin1)\n",
    "    print(\"z2\",zin2)\n",
    "    for i in range(0,4):\n",
    "        if zin1[i]>=theta:\n",
    "            y1[i]=1\n",
    "        else:\n",
    "            y1[i]=0\n",
    "        if zin2[i]>=theta:\n",
    "            y2[i]=1\n",
    "        else:\n",
    "            y2[i]=0\n",
    "    yin=np.array([])\n",
    "    yin=y1+y2\n",
    "\n",
    "    for i in range(0,4):\n",
    "        if yin[i]>=theta:\n",
    "            y[i]=1\n",
    "        else:\n",
    "            y[i]=0\n",
    "\n",
    "    print(\"yin\",yin)\n",
    "    print('Output of Net')\n",
    "    y=y.astype(int)\n",
    "    print(\"y\",y)\n",
    "    print(\"z\",z)\n",
    "\n",
    "    if np.array_equal(y,z):\n",
    "        con=0\n",
    "    else:\n",
    "        print(\"Net is not learning enter another set of weights and Threshold value\")\n",
    "        w11=input(\"Weight w11=\")\n",
    "        w12=input(\"weight w12=\")\n",
    "        w21=input(\"Weight w21=\")\n",
    "        w22=input(\"weight w22=\")\n",
    "        v1=input(\"weight v1=\")\n",
    "        v2=input(\"weight v2=\")\n",
    "        theta=input(\"theta=\")\n",
    "\n",
    "print(\"McCulloch-Pitts Net for XOR function\")\n",
    "print(\"Weights of Neuron Z1\")\n",
    "print(w11)\n",
    "print(w21)\n",
    "print(\"weights of Neuron Z2\")\n",
    "print(w12)\n",
    "\n",
    "print(w22)\n",
    "print(\"weights of Neuron Y\")\n",
    "print(v1)\n",
    "print(v2)\n",
    "print(\"Threshold value\")\n",
    "print(theta)"
   ]
  },
  {
   "cell_type": "code",
   "execution_count": null,
   "metadata": {},
   "outputs": [],
   "source": []
  },
  {
   "cell_type": "code",
   "execution_count": 19,
   "metadata": {},
   "outputs": [],
   "source": []
  },
  {
   "cell_type": "code",
   "execution_count": 32,
   "metadata": {},
   "outputs": [
    {
     "name": "stdout",
     "output_type": "stream",
     "text": [
      "wtold:  [0 0 0 0 0 0 0 0 0]\n",
      "b:  0\n",
      "y1:  1  ------  y2:  -1\n",
      "\n",
      "\n",
      "wt after iter1:  [ 1  1  1 -1  1 -1  1  1  1]\n",
      "b after iter1:  1\n",
      "\n",
      "\n",
      "wt after iter1:  [ 0  0  0 -2  2 -2  0  0  0]\n",
      "b after iter1:  0\n"
     ]
    }
   ],
   "source": [
    "#Hebb's Rule\n",
    "\n",
    "import numpy as np\n",
    "\n",
    "x1=np.array([1,1,1,-1,1,-1,1,1,1])\n",
    "#second pattern\n",
    "x2=np.array([1,1,1,1,-1,1,1,1,1])\n",
    "#x3=np.array([1,4,7,1,-1,9,1,10,1])\n",
    "\n",
    "#initialize bais value\n",
    "b=0\n",
    "#define target\n",
    "y=np.array([1,-1])\n",
    "wtold=np.zeros((9,))\n",
    "wtnew=np.zeros((9,))\n",
    "\n",
    "wtnew=wtnew.astype(int)\n",
    "wtold=wtold.astype(int)\n",
    "\n",
    "print(\"wtold: \",wtold)\n",
    "print(\"b: \",b)\n",
    "print(\"y1: \",y[0],\" ------ \",\"y2: \",y[1])\n",
    "\n",
    "print(\"\\n\")\n",
    "\n",
    "wtnew = (x1*y[0]) + wtold\n",
    "b = b + y[0]\n",
    "print(\"wt after iter1: \",wtnew)\n",
    "print(\"b after iter1: \",b)\n",
    "wtold = wtnew\n",
    "print(\"\\n\")\n",
    "\n",
    "wtnew = (x2*y[1]) + wtold\n",
    "b = b + y[1]\n",
    "print(\"wt after iter1: \",wtnew)\n",
    "print(\"b after iter1: \",b)"
   ]
  },
  {
   "cell_type": "code",
   "execution_count": null,
   "metadata": {},
   "outputs": [],
   "source": []
  },
  {
   "cell_type": "code",
   "execution_count": 27,
   "metadata": {},
   "outputs": [
    {
     "name": "stdout",
     "output_type": "stream",
     "text": [
      "x [ 1  1  1  1 -1  1  1  1  1  1 -1  1  1 -1  1]             y 1\n",
      "W after iter  1     [ 1.  1.  1.  1. -1.  1.  1.  1.  1.  1. -1.  1.  1. -1.  1.]\n",
      "x [ 1  1  1  1 -1 -1  1  1  1  1 -1 -1  1  1  1]             y -1\n",
      "W after iter  2     [ 0.  0.  0.  0.  0.  2.  0.  0.  0.  0.  0.  2.  0. -2.  0.]\n"
     ]
    }
   ],
   "source": [
    "import numpy as np\n",
    "\n",
    "x=np.array([[1,1,1,1,-1,1,1,1,1,1,-1,1,1,-1,1],[1,1,1,1,-1,-1,1,1,1,1,-1,-1,1,1,1]])\n",
    "y=np.array([1,-1])\n",
    "w=np.zeros((15,))\n",
    "\n",
    "for i in range(2):\n",
    "    print(\"x\",x[i],\"            y\",y[i])\n",
    "    wnew = w + (x[i]*y[i])\n",
    "    print(\"W after iter \",i+1,\"   \", wnew)\n",
    "    w = wnew"
   ]
  },
  {
   "cell_type": "code",
   "execution_count": 33,
   "metadata": {},
   "outputs": [
    {
     "name": "stdout",
     "output_type": "stream",
     "text": [
      "1.28\n"
     ]
    }
   ],
   "source": [
    "x=np.array([0.7,0.8])\n",
    "w=np.array([0.2,0.3])\n",
    "b= 0.9\n",
    "\n",
    "print(np.sum(x*w)+b)"
   ]
  },
  {
   "cell_type": "code",
   "execution_count": null,
   "metadata": {},
   "outputs": [],
   "source": [
    "#AND NOT\n",
    "\n",
    "x1=[0,0,1,1]\n",
    "x2=[0,1,0,1]\n",
    "w1=[1,1,1,1]\n",
    "w2=[-1,-1,-1,-1]\n",
    "\n",
    "y=[]\n",
    "\n",
    "for i in range(4):\n",
    "  y.append((x1[i]*w1[i]) + (x2[i]*w2[i]))\n",
    "\n",
    "output=[]\n",
    "for i in range(4):\n",
    "  if y[i] < 1:\n",
    "    output.append(0)\n",
    "\n",
    "  elif y[i] >= 1:\n",
    "    output.append(1)\n",
    "\n",
    "print(output)"
   ]
  },
  {
   "cell_type": "code",
   "execution_count": null,
   "metadata": {},
   "outputs": [],
   "source": []
  },
  {
   "cell_type": "code",
   "execution_count": 6,
   "metadata": {},
   "outputs": [
    {
     "name": "stdout",
     "output_type": "stream",
     "text": [
      "weights [1 1 1]\n",
      "actual [0. 0. 0.]\n",
      "desired [2 3 4]\n",
      "weights [3. 4. 5.]\n",
      "actual [0. 0. 0.]\n",
      "desired [2 3 4]\n",
      "weights [2. 3. 4.]\n",
      "actual [3. 4. 5.]\n",
      "desired [2 3 4]\n",
      "******************************\n",
      "FINAL OUTPUT\n",
      "Corrected weights [2. 3. 4.]\n",
      "actual [2. 3. 4.]\n",
      "desired [2 3 4]\n"
     ]
    }
   ],
   "source": [
    "# Delta Rule\n",
    "import numpy as np\n",
    "\n",
    "x=np.array([1,1,1])\n",
    "weights=np.array([1,1,1])\n",
    "desired=np.array([2,3,4])\n",
    "\n",
    "a=1\n",
    "\n",
    "actual=np.zeros((3,))\n",
    "print(\"weights\",weights)\n",
    "print(\"actual\",actual)\n",
    "print(\"desired\",desired)\n",
    "\n",
    "while True:\n",
    " if np.array_equal(desired,actual):\n",
    "     break #no change\n",
    " else:   \n",
    "     weights=weights + (a* (desired-actual))\n",
    " \n",
    " print(\"weights\",weights)\n",
    " print(\"actual\",actual)\n",
    " print(\"desired\",desired)\n",
    " actual=x*weights\n",
    "\n",
    "\n",
    "print(\"*\"*30)\n",
    "print(\"FINAL OUTPUT\")\n",
    "print(\"Corrected weights\",weights)\n",
    "print(\"actual\",actual)\n",
    "print(\"desired\",desired)"
   ]
  },
  {
   "cell_type": "code",
   "execution_count": null,
   "metadata": {},
   "outputs": [],
   "source": []
  },
  {
   "cell_type": "code",
   "execution_count": null,
   "metadata": {},
   "outputs": [],
   "source": []
  },
  {
   "cell_type": "code",
   "execution_count": 1,
   "metadata": {},
   "outputs": [
    {
     "data": {
      "text/plain": [
       "0.09101"
      ]
     },
     "execution_count": 1,
     "metadata": {},
     "output_type": "execute_result"
    }
   ],
   "source": [
    "-0.2 + (0.5498 * 0.4) + (0.7109 * 0.1)"
   ]
  },
  {
   "cell_type": "code",
   "execution_count": null,
   "metadata": {},
   "outputs": [],
   "source": []
  }
 ],
 "metadata": {
  "colab": {
   "provenance": []
  },
  "kernelspec": {
   "display_name": "Python 3 (ipykernel)",
   "language": "python",
   "name": "python3"
  },
  "language_info": {
   "codemirror_mode": {
    "name": "ipython",
    "version": 3
   },
   "file_extension": ".py",
   "mimetype": "text/x-python",
   "name": "python",
   "nbconvert_exporter": "python",
   "pygments_lexer": "ipython3",
   "version": "3.11.5"
  }
 },
 "nbformat": 4,
 "nbformat_minor": 4
}
